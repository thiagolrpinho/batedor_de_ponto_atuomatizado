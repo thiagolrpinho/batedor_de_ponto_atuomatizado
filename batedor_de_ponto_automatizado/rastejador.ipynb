{
 "cells": [
  {
   "cell_type": "code",
   "execution_count": 1,
   "id": "c75cc0e7",
   "metadata": {},
   "outputs": [
    {
     "name": "stdout",
     "output_type": "stream",
     "text": [
      "{'matricula': 'None', 'senha': 'None'}\n"
     ]
    }
   ],
   "source": [
    "#%%\n",
    "from time import sleep\n",
    "\n",
    "from selenium import webdriver\n",
    "from selenium import common\n",
    "from selenium.webdriver.common.action_chains import ActionChains\n",
    "from webdriver_manager.chrome import ChromeDriverManager\n",
    "\n",
    "from config import CREDENCIAIS_AHGORA"
   ]
  },
  {
   "cell_type": "code",
   "execution_count": 2,
   "id": "0a21c8f1",
   "metadata": {},
   "outputs": [],
   "source": [
    "CREDENCIAIS_AHGORA['matricula'] = '945'\n",
    "CREDENCIAIS_AHGORA['senha'] = 'MDYYyUi2Pr7Lf#u'"
   ]
  },
  {
   "cell_type": "code",
   "execution_count": 3,
   "id": "48814458",
   "metadata": {},
   "outputs": [
    {
     "data": {
      "text/plain": [
       "True"
      ]
     },
     "execution_count": 3,
     "metadata": {},
     "output_type": "execute_result"
    }
   ],
   "source": [
    "import os\n",
    "from dotenv import load_dotenv\n",
    "import os\n",
    "\n",
    "load_dotenv()\n",
    "\n",
    "load_dotenv(verbose=True)"
   ]
  },
  {
   "cell_type": "code",
   "execution_count": 4,
   "id": "2a7f71a7",
   "metadata": {},
   "outputs": [
    {
     "name": "stdout",
     "output_type": "stream",
     "text": [
      "None\n"
     ]
    }
   ],
   "source": [
    "print(os.getenv(\"CREDENCIAIS_AHGORA_MATRICULA\"))"
   ]
  },
  {
   "cell_type": "code",
   "execution_count": 5,
   "id": "d8d36e79",
   "metadata": {},
   "outputs": [],
   "source": [
    "def highlight(element):\n",
    "    \"\"\"Highlights (blinks) a Selenium Webdriver element\"\"\"\n",
    "    driver = element._parent\n",
    "    def apply_style(s):\n",
    "        driver.execute_script(\"arguments[0].setAttribute('style', arguments[1]);\",element, s)\n",
    "    original_style = element.get_attribute('style')\n",
    "    apply_style(\"background: yellow; border: 2px solid red;\")\n",
    "    sleep(.5)\n",
    "    apply_style(original_style)\n",
    "\n",
    "def change_tab(driver):\n",
    "    #get current window handle\n",
    "    p = driver.current_window_handle\n",
    "\n",
    "    #get first child window\n",
    "    chwd = driver.window_handles\n",
    "\n",
    "    for w in chwd:\n",
    "        #switch focus to child window\n",
    "        if(w!=p):\n",
    "            driver.switch_to.window(w)\n",
    "            break\n"
   ]
  },
  {
   "cell_type": "code",
   "execution_count": 6,
   "id": "8e1d23a6",
   "metadata": {},
   "outputs": [
    {
     "name": "stderr",
     "output_type": "stream",
     "text": [
      "\n",
      "\n",
      "====== WebDriver manager ======\n",
      "Current google-chrome version is 92.0.4515\n",
      "Get LATEST driver version for 92.0.4515\n",
      "Get LATEST driver version for 92.0.4515\n",
      "Trying to download new driver from https://chromedriver.storage.googleapis.com/92.0.4515.107/chromedriver_linux64.zip\n",
      "Driver has been saved in cache [/home/devdev/.wdm/drivers/chromedriver/linux64/92.0.4515.107]\n"
     ]
    }
   ],
   "source": [
    "# Initiate the browser\n",
    "browser  = webdriver.Chrome(ChromeDriverManager().install())"
   ]
  },
  {
   "cell_type": "code",
   "execution_count": 7,
   "id": "526cedc1",
   "metadata": {},
   "outputs": [],
   "source": [
    "# Open the Website\n",
    "url_ahgora = 'https://www.ahgora.com.br/externo/index/a746461/'\n",
    "browser.get(url_ahgora)"
   ]
  },
  {
   "cell_type": "code",
   "execution_count": 8,
   "id": "a4149a87",
   "metadata": {},
   "outputs": [],
   "source": [
    "sleep(3)"
   ]
  },
  {
   "cell_type": "code",
   "execution_count": 8,
   "id": "09cb5f24",
   "metadata": {},
   "outputs": [
    {
     "data": {
      "text/plain": [
       "{'matricula': '945', 'senha': 'MDYYyUi2Pr7Lf#u'}"
      ]
     },
     "execution_count": 8,
     "metadata": {},
     "output_type": "execute_result"
    }
   ],
   "source": [
    "CREDENCIAIS_AHGORA"
   ]
  },
  {
   "cell_type": "code",
   "execution_count": 9,
   "id": "6be3f983",
   "metadata": {},
   "outputs": [],
   "source": [
    "# %%\n",
    "# Write credentials and\n",
    "# click on Log in Ahgora Now\n",
    "ahgora_matricula = CREDENCIAIS_AHGORA['matricula']\n",
    "ahgora_senha = CREDENCIAIS_AHGORA['senha']\n",
    "objeto_caixa_login = browser.find_element_by_id('boxLogin')\n",
    "objeto_caixa_login.find_element_by_id('matricula').send_keys(ahgora_matricula)\n",
    "objeto_caixa_login.find_element_by_id('senha').send_keys(ahgora_senha)\n",
    "objeto_caixa_login.find_element_by_xpath('//*[@id=\"boxLogin\"]/div[3]/button').click()"
   ]
  },
  {
   "cell_type": "code",
   "execution_count": 10,
   "id": "1ef68ed7",
   "metadata": {},
   "outputs": [],
   "source": [
    "# %%\n",
    "ahgora_espelho_ahgora = 'https://mirror.www.ahgora.com.br/#/dashboard'\n",
    "browser.get(ahgora_espelho_ahgora)"
   ]
  },
  {
   "cell_type": "code",
   "execution_count": 12,
   "id": "e9d520ab",
   "metadata": {},
   "outputs": [],
   "source": [
    "# %%\n",
    "area_solicitacao_class_name = 'espelho-resumo-dia'\n",
    "\n",
    "area_solicitacao_objeto = browser.find_element_by_class_name(area_solicitacao_class_name)\n",
    "\n",
    "incluir_solicitacao_xpath = '//main/div/div/div[1]/div[2]/div[2]/div/div[3]/button'\n",
    "\n",
    "area_solicitacao_objeto.find_element_by_xpath(incluir_solicitacao_xpath).click()"
   ]
  },
  {
   "cell_type": "markdown",
   "id": "b96ad3d2",
   "metadata": {},
   "source": [
    "## Marcando Abono Home Office"
   ]
  },
  {
   "cell_type": "code",
   "execution_count": 22,
   "id": "f12b4a88",
   "metadata": {},
   "outputs": [],
   "source": [
    "# %%\n",
    "\n",
    "solicitacao_abono_botao_xpath = '//div/div/div[2]/div/div[1]/div/div[2]/a'\n",
    "browser.find_element_by_xpath(solicitacao_abono_botao_xpath).click()"
   ]
  },
  {
   "cell_type": "code",
   "execution_count": 23,
   "id": "52820a48",
   "metadata": {},
   "outputs": [],
   "source": [
    "# %%\n",
    "dia_inteiro_checkbox_xpath = '//div/div/div[2]/div/div[2]/div/div[1]/div/div/div[1]/div/div/div[1]/div/div'\n",
    "browser.find_element_by_xpath(dia_inteiro_checkbox_xpath).click()\n",
    "sleep(0.5)"
   ]
  },
  {
   "cell_type": "code",
   "execution_count": 24,
   "id": "41f7e248",
   "metadata": {},
   "outputs": [],
   "source": [
    "# %%\n",
    "seta_dropdown_xpath = '//div/div/div[2]/div/div[2]/div/div[1]/div/div/div[2]/div/div/div[1]/div[1]/div[2]/div'\n",
    "browser.find_element_by_xpath(seta_dropdown_xpath).click()\n",
    "sleep(0.5)"
   ]
  },
  {
   "cell_type": "code",
   "execution_count": 25,
   "id": "fa60a29f",
   "metadata": {},
   "outputs": [],
   "source": [
    "# %%\n",
    "element_to_reach_xpath = '//div/div/div[20]'\n",
    "element = browser.find_element_by_xpath(element_to_reach_xpath)\n",
    "actions = ActionChains(browser)\n",
    "actions.move_to_element(element).perform()\n",
    "\n",
    "home_office_dropdown_xpath = '//div/div/div[22]/a'\n",
    "element = browser.find_element_by_xpath(home_office_dropdown_xpath).click()"
   ]
  },
  {
   "cell_type": "code",
   "execution_count": 26,
   "id": "3705237b",
   "metadata": {},
   "outputs": [],
   "source": [
    "# %%\n",
    "mensagem_text_area_xpath = '//div/div/div[2]/div/div[2]/div/div[2]/div/div[1]/div/div/div[1]/div/textarea'\n",
    "mensagem_conteudo = \"Trabalho em Remoto\"\n",
    "browser.find_element_by_xpath(mensagem_text_area_xpath).send_keys(mensagem_conteudo)"
   ]
  },
  {
   "cell_type": "code",
   "execution_count": 27,
   "id": "43594143",
   "metadata": {},
   "outputs": [],
   "source": [
    "# %%\n",
    "botao_enviar_xpath = '//div/div/div[2]/div/div[2]/div/div[3]/div/button[1]'\n",
    "browser.find_element_by_xpath(botao_enviar_xpath).click()"
   ]
  },
  {
   "cell_type": "code",
   "execution_count": 28,
   "id": "5c18044c",
   "metadata": {},
   "outputs": [],
   "source": [
    "# %%\n",
    "try:\n",
    "    seta_dia_seguinte_botao_xpath = '//main/div/div/div[1]/div[2]/div[2]/div/div[1]/div/div[2]/div/button[2]'\n",
    "    browser.find_element_by_xpath(seta_dia_seguinte_botao_xpath).click()\n",
    "except common.exceptions.ElementClickInterceptedException:\n",
    "    url_atual = browser.current_url\n",
    "    mes_atual_int = int(url_atual[-2:])\n",
    "    # A url trabalha com número sempre com dois algarismos\n",
    "    if mes_atual_int + 1 < 10:\n",
    "        proximo_mes_str = '0' + str(mes_atual_int + 1)\n",
    "    else:\n",
    "        proximo_mes_str = str(mes_atual_int + 1)\n",
    "\n",
    "    proxima_url = url_atual[:-2] + proximo_mes_str\n",
    "    browser.get(proxima_url)\n",
    "    sleep(3)\n",
    "    browser.refresh()\n",
    "    # Garantindo que o botão do primeiro dia esteja marcado\n",
    "    first_day_div_xpath = '//main/div/div/div[1]/div[2]/div[1]/div/div[2]/div[2]/div[2]'\n",
    "    browser.find_element_by_xpath(first_day_div_xpath).click()\n",
    "    first_day_div_object = browser.find_element_by_xpath(first_day_div_xpath)\n",
    "    hover_action_chain = ActionChains(browser).move_to_element(first_day_div_object)\n",
    "    hover_action_chain.click().perform()\n",
    "# %%"
   ]
  },
  {
   "cell_type": "markdown",
   "id": "9946c760",
   "metadata": {},
   "source": [
    "## Marcando Horário de Entrada, Entrada e saída do Almoço e Fim da Jornada"
   ]
  },
  {
   "cell_type": "code",
   "execution_count": 11,
   "id": "c67d0a8e",
   "metadata": {},
   "outputs": [],
   "source": [
    "horario_mensagens_do_ponto = [\n",
    "    (\"08:00\", \"Início da Jornada de Trabalho\"),\n",
    "    (\"12:00\", \"Início do Horário de Almoço\"),\n",
    "    (\"13:00\", \"Retorno do Horário de Almoço\"),\n",
    "    (\"17:00\", \"Fim da Jornada de Trabalho\"),\n",
    "]"
   ]
  },
  {
   "cell_type": "code",
   "execution_count": 17,
   "id": "0ec99d16",
   "metadata": {},
   "outputs": [],
   "source": [
    "for _ in range(5):\n",
    "    for i, horario_mensagem in enumerate(horario_mensagens_do_ponto):\n",
    "        # %%\n",
    "        indice_formulario_mal_feito = i + 3\n",
    "        if indice_formulario_mal_feito > 4:\n",
    "            indice_formulario_mal_feito = 4\n",
    "\n",
    "        area_solicitacao_class_name = 'espelho-resumo-dia'\n",
    "\n",
    "        area_solicitacao_objeto = browser.find_element_by_class_name(area_solicitacao_class_name)\n",
    "\n",
    "        incluir_solicitacao_xpath = str('//main/div/div/div[1]/div[2]/div[2]/div/div[' \n",
    "                                        + str(indice_formulario_mal_feito) + ']/button')\n",
    "        \n",
    "        area_solicitacao_objeto.find_element_by_xpath(incluir_solicitacao_xpath).click()\n",
    "        sleep(0.5)\n",
    "\n",
    "        horario_campo_escrita_xpath = '//div/div/div[2]/div/div[2]/div/div[1]/div/div/div/div/div[1]/div/input'\n",
    "        mensagem_conteudo = horario_mensagem[0]\n",
    "        browser.find_element_by_xpath(horario_campo_escrita_xpath).send_keys(mensagem_conteudo)\n",
    "        sleep(0.5)\n",
    "\n",
    "        mensagem_campo_escrita_xpath = '//div/div/div[2]/div/div[2]/div/div[2]/div/div[1]/div/div/div[1]/div/textarea'\n",
    "        mensagem_conteudo = horario_mensagem[1]\n",
    "        browser.find_element_by_xpath(mensagem_campo_escrita_xpath).send_keys(mensagem_conteudo)\n",
    "        sleep(0.5)\n",
    "\n",
    "        botao_envio_xpath = '//div/div/div[2]/div/div[2]/div/div[3]/div/button[1]'\n",
    "        browser.find_element_by_xpath(botao_envio_xpath).click()\n",
    "        sleep(1)\n",
    "\n",
    "    # %%\n",
    "    try:\n",
    "        seta_dia_seguinte_botao_xpath = '//main/div/div/div[1]/div[2]/div[2]/div/div[1]/div/div[2]/div/button[2]'\n",
    "        browser.find_element_by_xpath(seta_dia_seguinte_botao_xpath).click()\n",
    "        sleep(1)\n",
    "    except common.exceptions.ElementClickInterceptedException:\n",
    "        url_atual = browser.current_url\n",
    "        mes_atual_int = int(url_atual[-2:])\n",
    "        # A url trabalha com número sempre com dois algarismos\n",
    "        if mes_atual_int + 1 < 10:\n",
    "            proximo_mes_str = '0' + str(mes_atual_int + 1)\n",
    "        else:\n",
    "            proximo_mes_str = str(mes_atual_int + 1)\n",
    "\n",
    "        proxima_url = url_atual[:-2] + proximo_mes_str\n",
    "        browser.get(proxima_url)\n",
    "        sleep(3)\n",
    "        browser.refresh()\n",
    "        # Garantindo que o botão do primeiro dia esteja marcado\n",
    "        first_day_div_xpath = '//main/div/div/div[1]/div[2]/div[1]/div/div[2]/div[2]/div[2]'\n",
    "        browser.find_element_by_xpath(first_day_div_xpath).click()\n",
    "        first_day_div_object = browser.find_element_by_xpath(first_day_div_xpath)\n",
    "        hover_action_chain = ActionChains(browser).move_to_element(first_day_div_object)\n",
    "        hover_action_chain.click().perform()\n",
    "    # %%"
   ]
  },
  {
   "cell_type": "code",
   "execution_count": 14,
   "id": "d712a687",
   "metadata": {},
   "outputs": [],
   "source": []
  },
  {
   "cell_type": "code",
   "execution_count": null,
   "id": "d6f6a9bd",
   "metadata": {},
   "outputs": [],
   "source": []
  }
 ],
 "metadata": {
  "kernelspec": {
   "display_name": "Python 3",
   "language": "python",
   "name": "python3"
  },
  "language_info": {
   "codemirror_mode": {
    "name": "ipython",
    "version": 3
   },
   "file_extension": ".py",
   "mimetype": "text/x-python",
   "name": "python",
   "nbconvert_exporter": "python",
   "pygments_lexer": "ipython3",
   "version": "3.9.4"
  }
 },
 "nbformat": 4,
 "nbformat_minor": 5
}
