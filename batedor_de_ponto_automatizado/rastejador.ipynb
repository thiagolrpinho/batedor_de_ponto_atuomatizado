{
 "cells": [
  {
   "cell_type": "code",
   "execution_count": 1,
   "id": "c75cc0e7",
   "metadata": {},
   "outputs": [
    {
     "name": "stdout",
     "output_type": "stream",
     "text": [
      "{'matricula': 'None', 'senha': 'None'}\n"
     ]
    }
   ],
   "source": [
    "#%%\n",
    "from time import sleep\n",
    "\n",
    "from selenium import webdriver\n",
    "from selenium import common\n",
    "from selenium.webdriver.common.action_chains import ActionChains\n",
    "from webdriver_manager.chrome import ChromeDriverManager\n",
    "\n",
    "from config import CREDENCIAIS_AHGORA"
   ]
  },
  {
   "cell_type": "code",
   "execution_count": 2,
   "id": "0a21c8f1",
   "metadata": {},
   "outputs": [],
   "source": [
    "CREDENCIAIS_AHGORA['matricula'] = '945'\n",
    "CREDENCIAIS_AHGORA['senha'] = 'MDYYyUi2Pr7Lf#u'"
   ]
  },
  {
   "cell_type": "code",
   "execution_count": 19,
   "id": "8b8afc17",
   "metadata": {},
   "outputs": [],
   "source": [
    "CREDENCIAIS_AHGORA['matricula'] = '940'\n",
    "CREDENCIAIS_AHGORA['senha'] = 'Ninjascypher1337!!'"
   ]
  },
  {
   "cell_type": "code",
   "execution_count": 47,
   "id": "ceaf88e6",
   "metadata": {},
   "outputs": [],
   "source": [
    "CREDENCIAIS_AHGORA['matricula'] = '966'\n",
    "CREDENCIAIS_AHGORA['senha'] = 'p0kem0n0'"
   ]
  },
  {
   "cell_type": "code",
   "execution_count": 57,
   "id": "b74a9bd4",
   "metadata": {},
   "outputs": [],
   "source": [
    "CREDENCIAIS_AHGORA['matricula'] = '941'\n",
    "CREDENCIAIS_AHGORA['senha'] = 'Structboladao1!'"
   ]
  },
  {
   "cell_type": "code",
   "execution_count": 2,
   "id": "48814458",
   "metadata": {},
   "outputs": [
    {
     "data": {
      "text/plain": [
       "True"
      ]
     },
     "execution_count": 2,
     "metadata": {},
     "output_type": "execute_result"
    }
   ],
   "source": [
    "import os\n",
    "from dotenv import load_dotenv\n",
    "import os\n",
    "\n",
    "load_dotenv()\n",
    "\n",
    "load_dotenv(verbose=True)"
   ]
  },
  {
   "cell_type": "code",
   "execution_count": 3,
   "id": "2a7f71a7",
   "metadata": {},
   "outputs": [
    {
     "name": "stdout",
     "output_type": "stream",
     "text": [
      "None\n"
     ]
    }
   ],
   "source": [
    "print(os.getenv(\"CREDENCIAIS_AHGORA_MATRICULA\"))"
   ]
  },
  {
   "cell_type": "code",
   "execution_count": 2,
   "id": "d8d36e79",
   "metadata": {},
   "outputs": [],
   "source": [
    "def highlight(element):\n",
    "    \"\"\"Highlights (blinks) a Selenium Webdriver element\"\"\"\n",
    "    driver = element._parent\n",
    "    def apply_style(s):\n",
    "        driver.execute_script(\"arguments[0].setAttribute('style', arguments[1]);\",element, s)\n",
    "    original_style = element.get_attribute('style')\n",
    "    apply_style(\"background: yellow; border: 2px solid red;\")\n",
    "    sleep(.5)\n",
    "    apply_style(original_style)\n",
    "\n",
    "def change_tab(driver):\n",
    "    #get current window handle\n",
    "    p = driver.current_window_handle\n",
    "\n",
    "    #get first child window\n",
    "    chwd = driver.window_handles\n",
    "\n",
    "    for w in chwd:\n",
    "        #switch focus to child window\n",
    "        if(w!=p):\n",
    "            driver.switch_to.window(w)\n",
    "            break\n"
   ]
  },
  {
   "cell_type": "code",
   "execution_count": 3,
   "id": "8e1d23a6",
   "metadata": {},
   "outputs": [
    {
     "name": "stderr",
     "output_type": "stream",
     "text": [
      "\n",
      "\n",
      "====== WebDriver manager ======\n",
      "Current google-chrome version is 92.0.4515\n",
      "Get LATEST driver version for 92.0.4515\n",
      "Get LATEST driver version for 92.0.4515\n",
      "Trying to download new driver from https://chromedriver.storage.googleapis.com/92.0.4515.107/chromedriver_linux64.zip\n",
      "Driver has been saved in cache [/home/devdev/.wdm/drivers/chromedriver/linux64/92.0.4515.107]\n"
     ]
    }
   ],
   "source": [
    "# Initiate the browser\n",
    "browser  = webdriver.Chrome(ChromeDriverManager().install())"
   ]
  },
  {
   "cell_type": "code",
   "execution_count": 59,
   "id": "526cedc1",
   "metadata": {},
   "outputs": [],
   "source": [
    "# Open the Website\n",
    "url_ahgora = 'https://www.ahgora.com.br/externo/index/a746461/'\n",
    "browser.get(url_ahgora)"
   ]
  },
  {
   "cell_type": "code",
   "execution_count": 25,
   "id": "a4149a87",
   "metadata": {},
   "outputs": [],
   "source": [
    "sleep(3)"
   ]
  },
  {
   "cell_type": "code",
   "execution_count": 50,
   "id": "09cb5f24",
   "metadata": {},
   "outputs": [
    {
     "data": {
      "text/plain": [
       "{'matricula': '966', 'senha': 'p0kem0n0'}"
      ]
     },
     "execution_count": 50,
     "metadata": {},
     "output_type": "execute_result"
    }
   ],
   "source": [
    "CREDENCIAIS_AHGORA"
   ]
  },
  {
   "cell_type": "code",
   "execution_count": 60,
   "id": "6be3f983",
   "metadata": {},
   "outputs": [],
   "source": [
    "# %%\n",
    "# Write credentials and\n",
    "# click on Log in Ahgora Now\n",
    "ahgora_matricula = CREDENCIAIS_AHGORA['matricula']\n",
    "ahgora_senha = CREDENCIAIS_AHGORA['senha']\n",
    "objeto_caixa_login = browser.find_element_by_id('boxLogin')\n",
    "objeto_caixa_login.find_element_by_id('matricula').send_keys(ahgora_matricula)\n",
    "objeto_caixa_login.find_element_by_id('senha').send_keys(ahgora_senha)\n",
    "objeto_caixa_login.find_element_by_xpath('//*[@id=\"boxLogin\"]/div[3]/button').click()"
   ]
  },
  {
   "cell_type": "code",
   "execution_count": 61,
   "id": "1ef68ed7",
   "metadata": {},
   "outputs": [],
   "source": [
    "# %%\n",
    "ahgora_espelho_ahgora = 'https://mirror.www.ahgora.com.br/#/dashboard'\n",
    "browser.get(ahgora_espelho_ahgora)\n",
    "sleep(2)"
   ]
  },
  {
   "cell_type": "code",
   "execution_count": 62,
   "id": "e9d520ab",
   "metadata": {},
   "outputs": [
    {
     "ename": "NoSuchElementException",
     "evalue": "Message: no such element: Unable to locate element: {\"method\":\"xpath\",\"selector\":\"//main/div/div/div[1]/div[2]/div[2]/div/div[3]/button\"}\n  (Session info: chrome=92.0.4515.131)\n",
     "output_type": "error",
     "traceback": [
      "\u001b[0;31m---------------------------------------------------------------------------\u001b[0m",
      "\u001b[0;31mNoSuchElementException\u001b[0m                    Traceback (most recent call last)",
      "\u001b[0;32m<ipython-input-62-141eb58465f7>\u001b[0m in \u001b[0;36m<module>\u001b[0;34m\u001b[0m\n\u001b[1;32m      6\u001b[0m \u001b[0mincluir_solicitacao_xpath\u001b[0m \u001b[0;34m=\u001b[0m \u001b[0;34m'//main/div/div/div[1]/div[2]/div[2]/div/div[3]/button'\u001b[0m\u001b[0;34m\u001b[0m\u001b[0;34m\u001b[0m\u001b[0m\n\u001b[1;32m      7\u001b[0m \u001b[0;34m\u001b[0m\u001b[0m\n\u001b[0;32m----> 8\u001b[0;31m \u001b[0marea_solicitacao_objeto\u001b[0m\u001b[0;34m.\u001b[0m\u001b[0mfind_element_by_xpath\u001b[0m\u001b[0;34m(\u001b[0m\u001b[0mincluir_solicitacao_xpath\u001b[0m\u001b[0;34m)\u001b[0m\u001b[0;34m.\u001b[0m\u001b[0mclick\u001b[0m\u001b[0;34m(\u001b[0m\u001b[0;34m)\u001b[0m\u001b[0;34m\u001b[0m\u001b[0;34m\u001b[0m\u001b[0m\n\u001b[0m",
      "\u001b[0;32m~/anaconda3/envs/web_crawling/lib/python3.9/site-packages/selenium/webdriver/remote/webelement.py\u001b[0m in \u001b[0;36mfind_element_by_xpath\u001b[0;34m(self, xpath)\u001b[0m\n\u001b[1;32m    349\u001b[0m             \u001b[0melement\u001b[0m \u001b[0;34m=\u001b[0m \u001b[0melement\u001b[0m\u001b[0;34m.\u001b[0m\u001b[0mfind_element_by_xpath\u001b[0m\u001b[0;34m(\u001b[0m\u001b[0;34m'//div/td[1]'\u001b[0m\u001b[0;34m)\u001b[0m\u001b[0;34m\u001b[0m\u001b[0;34m\u001b[0m\u001b[0m\n\u001b[1;32m    350\u001b[0m         \"\"\"\n\u001b[0;32m--> 351\u001b[0;31m         \u001b[0;32mreturn\u001b[0m \u001b[0mself\u001b[0m\u001b[0;34m.\u001b[0m\u001b[0mfind_element\u001b[0m\u001b[0;34m(\u001b[0m\u001b[0mby\u001b[0m\u001b[0;34m=\u001b[0m\u001b[0mBy\u001b[0m\u001b[0;34m.\u001b[0m\u001b[0mXPATH\u001b[0m\u001b[0;34m,\u001b[0m \u001b[0mvalue\u001b[0m\u001b[0;34m=\u001b[0m\u001b[0mxpath\u001b[0m\u001b[0;34m)\u001b[0m\u001b[0;34m\u001b[0m\u001b[0;34m\u001b[0m\u001b[0m\n\u001b[0m\u001b[1;32m    352\u001b[0m \u001b[0;34m\u001b[0m\u001b[0m\n\u001b[1;32m    353\u001b[0m     \u001b[0;32mdef\u001b[0m \u001b[0mfind_elements_by_xpath\u001b[0m\u001b[0;34m(\u001b[0m\u001b[0mself\u001b[0m\u001b[0;34m,\u001b[0m \u001b[0mxpath\u001b[0m\u001b[0;34m)\u001b[0m\u001b[0;34m:\u001b[0m\u001b[0;34m\u001b[0m\u001b[0;34m\u001b[0m\u001b[0m\n",
      "\u001b[0;32m~/anaconda3/envs/web_crawling/lib/python3.9/site-packages/selenium/webdriver/remote/webelement.py\u001b[0m in \u001b[0;36mfind_element\u001b[0;34m(self, by, value)\u001b[0m\n\u001b[1;32m    656\u001b[0m                 \u001b[0mvalue\u001b[0m \u001b[0;34m=\u001b[0m \u001b[0;34m'[name=\"%s\"]'\u001b[0m \u001b[0;34m%\u001b[0m \u001b[0mvalue\u001b[0m\u001b[0;34m\u001b[0m\u001b[0;34m\u001b[0m\u001b[0m\n\u001b[1;32m    657\u001b[0m \u001b[0;34m\u001b[0m\u001b[0m\n\u001b[0;32m--> 658\u001b[0;31m         return self._execute(Command.FIND_CHILD_ELEMENT,\n\u001b[0m\u001b[1;32m    659\u001b[0m                              {\"using\": by, \"value\": value})['value']\n\u001b[1;32m    660\u001b[0m \u001b[0;34m\u001b[0m\u001b[0m\n",
      "\u001b[0;32m~/anaconda3/envs/web_crawling/lib/python3.9/site-packages/selenium/webdriver/remote/webelement.py\u001b[0m in \u001b[0;36m_execute\u001b[0;34m(self, command, params)\u001b[0m\n\u001b[1;32m    631\u001b[0m             \u001b[0mparams\u001b[0m \u001b[0;34m=\u001b[0m \u001b[0;34m{\u001b[0m\u001b[0;34m}\u001b[0m\u001b[0;34m\u001b[0m\u001b[0;34m\u001b[0m\u001b[0m\n\u001b[1;32m    632\u001b[0m         \u001b[0mparams\u001b[0m\u001b[0;34m[\u001b[0m\u001b[0;34m'id'\u001b[0m\u001b[0;34m]\u001b[0m \u001b[0;34m=\u001b[0m \u001b[0mself\u001b[0m\u001b[0;34m.\u001b[0m\u001b[0m_id\u001b[0m\u001b[0;34m\u001b[0m\u001b[0;34m\u001b[0m\u001b[0m\n\u001b[0;32m--> 633\u001b[0;31m         \u001b[0;32mreturn\u001b[0m \u001b[0mself\u001b[0m\u001b[0;34m.\u001b[0m\u001b[0m_parent\u001b[0m\u001b[0;34m.\u001b[0m\u001b[0mexecute\u001b[0m\u001b[0;34m(\u001b[0m\u001b[0mcommand\u001b[0m\u001b[0;34m,\u001b[0m \u001b[0mparams\u001b[0m\u001b[0;34m)\u001b[0m\u001b[0;34m\u001b[0m\u001b[0;34m\u001b[0m\u001b[0m\n\u001b[0m\u001b[1;32m    634\u001b[0m \u001b[0;34m\u001b[0m\u001b[0m\n\u001b[1;32m    635\u001b[0m     \u001b[0;32mdef\u001b[0m \u001b[0mfind_element\u001b[0m\u001b[0;34m(\u001b[0m\u001b[0mself\u001b[0m\u001b[0;34m,\u001b[0m \u001b[0mby\u001b[0m\u001b[0;34m=\u001b[0m\u001b[0mBy\u001b[0m\u001b[0;34m.\u001b[0m\u001b[0mID\u001b[0m\u001b[0;34m,\u001b[0m \u001b[0mvalue\u001b[0m\u001b[0;34m=\u001b[0m\u001b[0;32mNone\u001b[0m\u001b[0;34m)\u001b[0m\u001b[0;34m:\u001b[0m\u001b[0;34m\u001b[0m\u001b[0;34m\u001b[0m\u001b[0m\n",
      "\u001b[0;32m~/anaconda3/envs/web_crawling/lib/python3.9/site-packages/selenium/webdriver/remote/webdriver.py\u001b[0m in \u001b[0;36mexecute\u001b[0;34m(self, driver_command, params)\u001b[0m\n\u001b[1;32m    319\u001b[0m         \u001b[0mresponse\u001b[0m \u001b[0;34m=\u001b[0m \u001b[0mself\u001b[0m\u001b[0;34m.\u001b[0m\u001b[0mcommand_executor\u001b[0m\u001b[0;34m.\u001b[0m\u001b[0mexecute\u001b[0m\u001b[0;34m(\u001b[0m\u001b[0mdriver_command\u001b[0m\u001b[0;34m,\u001b[0m \u001b[0mparams\u001b[0m\u001b[0;34m)\u001b[0m\u001b[0;34m\u001b[0m\u001b[0;34m\u001b[0m\u001b[0m\n\u001b[1;32m    320\u001b[0m         \u001b[0;32mif\u001b[0m \u001b[0mresponse\u001b[0m\u001b[0;34m:\u001b[0m\u001b[0;34m\u001b[0m\u001b[0;34m\u001b[0m\u001b[0m\n\u001b[0;32m--> 321\u001b[0;31m             \u001b[0mself\u001b[0m\u001b[0;34m.\u001b[0m\u001b[0merror_handler\u001b[0m\u001b[0;34m.\u001b[0m\u001b[0mcheck_response\u001b[0m\u001b[0;34m(\u001b[0m\u001b[0mresponse\u001b[0m\u001b[0;34m)\u001b[0m\u001b[0;34m\u001b[0m\u001b[0;34m\u001b[0m\u001b[0m\n\u001b[0m\u001b[1;32m    322\u001b[0m             response['value'] = self._unwrap_value(\n\u001b[1;32m    323\u001b[0m                 response.get('value', None))\n",
      "\u001b[0;32m~/anaconda3/envs/web_crawling/lib/python3.9/site-packages/selenium/webdriver/remote/errorhandler.py\u001b[0m in \u001b[0;36mcheck_response\u001b[0;34m(self, response)\u001b[0m\n\u001b[1;32m    240\u001b[0m                 \u001b[0malert_text\u001b[0m \u001b[0;34m=\u001b[0m \u001b[0mvalue\u001b[0m\u001b[0;34m[\u001b[0m\u001b[0;34m'alert'\u001b[0m\u001b[0;34m]\u001b[0m\u001b[0;34m.\u001b[0m\u001b[0mget\u001b[0m\u001b[0;34m(\u001b[0m\u001b[0;34m'text'\u001b[0m\u001b[0;34m)\u001b[0m\u001b[0;34m\u001b[0m\u001b[0;34m\u001b[0m\u001b[0m\n\u001b[1;32m    241\u001b[0m             \u001b[0;32mraise\u001b[0m \u001b[0mexception_class\u001b[0m\u001b[0;34m(\u001b[0m\u001b[0mmessage\u001b[0m\u001b[0;34m,\u001b[0m \u001b[0mscreen\u001b[0m\u001b[0;34m,\u001b[0m \u001b[0mstacktrace\u001b[0m\u001b[0;34m,\u001b[0m \u001b[0malert_text\u001b[0m\u001b[0;34m)\u001b[0m\u001b[0;34m\u001b[0m\u001b[0;34m\u001b[0m\u001b[0m\n\u001b[0;32m--> 242\u001b[0;31m         \u001b[0;32mraise\u001b[0m \u001b[0mexception_class\u001b[0m\u001b[0;34m(\u001b[0m\u001b[0mmessage\u001b[0m\u001b[0;34m,\u001b[0m \u001b[0mscreen\u001b[0m\u001b[0;34m,\u001b[0m \u001b[0mstacktrace\u001b[0m\u001b[0;34m)\u001b[0m\u001b[0;34m\u001b[0m\u001b[0;34m\u001b[0m\u001b[0m\n\u001b[0m\u001b[1;32m    243\u001b[0m \u001b[0;34m\u001b[0m\u001b[0m\n\u001b[1;32m    244\u001b[0m     \u001b[0;32mdef\u001b[0m \u001b[0m_value_or_default\u001b[0m\u001b[0;34m(\u001b[0m\u001b[0mself\u001b[0m\u001b[0;34m,\u001b[0m \u001b[0mobj\u001b[0m\u001b[0;34m,\u001b[0m \u001b[0mkey\u001b[0m\u001b[0;34m,\u001b[0m \u001b[0mdefault\u001b[0m\u001b[0;34m)\u001b[0m\u001b[0;34m:\u001b[0m\u001b[0;34m\u001b[0m\u001b[0;34m\u001b[0m\u001b[0m\n",
      "\u001b[0;31mNoSuchElementException\u001b[0m: Message: no such element: Unable to locate element: {\"method\":\"xpath\",\"selector\":\"//main/div/div/div[1]/div[2]/div[2]/div/div[3]/button\"}\n  (Session info: chrome=92.0.4515.131)\n"
     ]
    }
   ],
   "source": [
    "# %%\n",
    "area_solicitacao_class_name = 'espelho-resumo-dia'\n",
    "\n",
    "area_solicitacao_objeto = browser.find_element_by_class_name(area_solicitacao_class_name)\n",
    "\n",
    "incluir_solicitacao_xpath = '//main/div/div/div[1]/div[2]/div[2]/div/div[3]/button'\n",
    "\n",
    "area_solicitacao_objeto.find_element_by_xpath(incluir_solicitacao_xpath).click()"
   ]
  },
  {
   "cell_type": "markdown",
   "id": "b96ad3d2",
   "metadata": {},
   "source": [
    "## Marcando Abono Home Office"
   ]
  },
  {
   "cell_type": "code",
   "execution_count": 22,
   "id": "f12b4a88",
   "metadata": {},
   "outputs": [],
   "source": [
    "# %%\n",
    "solicitacao_abono_botao_xpath = '//div/div/div[2]/div/div[1]/div/div[2]/a'\n",
    "browser.find_element_by_xpath(solicitacao_abono_botao_xpath).click()"
   ]
  },
  {
   "cell_type": "code",
   "execution_count": 23,
   "id": "52820a48",
   "metadata": {},
   "outputs": [],
   "source": [
    "# %%\n",
    "dia_inteiro_checkbox_xpath = '//div/div/div[2]/div/div[2]/div/div[1]/div/div/div[1]/div/div/div[1]/div/div'\n",
    "browser.find_element_by_xpath(dia_inteiro_checkbox_xpath).click()\n",
    "sleep(0.5)"
   ]
  },
  {
   "cell_type": "code",
   "execution_count": 24,
   "id": "41f7e248",
   "metadata": {},
   "outputs": [],
   "source": [
    "# %%\n",
    "seta_dropdown_xpath = '//div/div/div[2]/div/div[2]/div/div[1]/div/div/div[2]/div/div/div[1]/div[1]/div[2]/div'\n",
    "browser.find_element_by_xpath(seta_dropdown_xpath).click()\n",
    "sleep(0.5)"
   ]
  },
  {
   "cell_type": "code",
   "execution_count": 25,
   "id": "fa60a29f",
   "metadata": {},
   "outputs": [],
   "source": [
    "# %%\n",
    "element_to_reach_xpath = '//div/div/div[20]'\n",
    "element = browser.find_element_by_xpath(element_to_reach_xpath)\n",
    "actions = ActionChains(browser)\n",
    "actions.move_to_element(element).perform()\n",
    "\n",
    "home_office_dropdown_xpath = '//div/div/div[22]/a'\n",
    "element = browser.find_element_by_xpath(home_office_dropdown_xpath).click()"
   ]
  },
  {
   "cell_type": "code",
   "execution_count": 26,
   "id": "3705237b",
   "metadata": {},
   "outputs": [],
   "source": [
    "# %%\n",
    "mensagem_text_area_xpath = '//div/div/div[2]/div/div[2]/div/div[2]/div/div[1]/div/div/div[1]/div/textarea'\n",
    "mensagem_conteudo = \"Trabalho em Remoto\"\n",
    "browser.find_element_by_xpath(mensagem_text_area_xpath).send_keys(mensagem_conteudo)"
   ]
  },
  {
   "cell_type": "code",
   "execution_count": 27,
   "id": "43594143",
   "metadata": {},
   "outputs": [],
   "source": [
    "# %%\n",
    "botao_enviar_xpath = '//div/div/div[2]/div/div[2]/div/div[3]/div/button[1]'\n",
    "browser.find_element_by_xpath(botao_enviar_xpath).click()"
   ]
  },
  {
   "cell_type": "code",
   "execution_count": 28,
   "id": "5c18044c",
   "metadata": {},
   "outputs": [],
   "source": [
    "# %%\n",
    "try:\n",
    "    seta_dia_seguinte_botao_xpath = '//main/div/div/div[1]/div[2]/div[2]/div/div[1]/div/div[2]/div/button[2]'\n",
    "    browser.find_element_by_xpath(seta_dia_seguinte_botao_xpath).click()\n",
    "except common.exceptions.ElementClickInterceptedException:\n",
    "    url_atual = browser.current_url\n",
    "    mes_atual_int = int(url_atual[-2:])\n",
    "    # A url trabalha com número sempre com dois algarismos\n",
    "    if mes_atual_int + 1 < 10:\n",
    "        proximo_mes_str = '0' + str(mes_atual_int + 1)\n",
    "    else:\n",
    "        proximo_mes_str = str(mes_atual_int + 1)\n",
    "\n",
    "    proxima_url = url_atual[:-2] + proximo_mes_str\n",
    "    browser.get(proxima_url)\n",
    "    sleep(3)\n",
    "    browser.refresh()\n",
    "    # Garantindo que o botão do primeiro dia esteja marcado\n",
    "    first_day_div_xpath = '//main/div/div/div[1]/div[2]/div[1]/div/div[2]/div[2]/div[2]'\n",
    "    browser.find_element_by_xpath(first_day_div_xpath).click()\n",
    "    first_day_div_object = browser.find_element_by_xpath(first_day_div_xpath)\n",
    "    hover_action_chain = ActionChains(browser).move_to_element(first_day_div_object)\n",
    "    hover_action_chain.click().perform()\n",
    "    # %%"
   ]
  },
  {
   "cell_type": "markdown",
   "id": "9946c760",
   "metadata": {},
   "source": [
    "## Marcando Horário de Entrada, Entrada e saída do Almoço e Fim da Jornada"
   ]
  },
  {
   "cell_type": "code",
   "execution_count": 33,
   "id": "741a846a",
   "metadata": {},
   "outputs": [],
   "source": [
    "def salta_proximo_dia(browser) -> None:\n",
    "    # %%\n",
    "    try:\n",
    "        seta_dia_seguinte_botao_xpath = '//main/div/div/div[1]/div[2]/div[2]/div/div[1]/div/div[2]/div/button[2]'\n",
    "        browser.find_element_by_xpath(seta_dia_seguinte_botao_xpath).click()\n",
    "        sleep(1)\n",
    "    except common.exceptions.ElementClickInterceptedException:\n",
    "        url_atual = browser.current_url\n",
    "        mes_atual_int = int(url_atual[-2:])\n",
    "        # A url trabalha com número sempre com dois algarismos\n",
    "        if mes_atual_int + 1 < 10:\n",
    "            proximo_mes_str = '0' + str(mes_atual_int + 1)\n",
    "        else:\n",
    "            proximo_mes_str = str(mes_atual_int + 1)\n",
    "\n",
    "        proxima_url = url_atual[:-2] + proximo_mes_str\n",
    "        browser.get(proxima_url)\n",
    "        sleep(3)\n",
    "        browser.refresh()\n",
    "        # Garantindo que o botão do primeiro dia esteja marcado\n",
    "        first_day_div_xpath = '//main/div/div/div[1]/div[2]/div[1]/div/div[2]/div[2]/div[2]'\n",
    "        browser.find_element_by_xpath(first_day_div_xpath).click()\n",
    "        first_day_div_object = browser.find_element_by_xpath(first_day_div_xpath)\n",
    "        hover_action_chain = ActionChains(browser).move_to_element(first_day_div_object)\n",
    "        hover_action_chain.click().perform()\n",
    "        # %%"
   ]
  },
  {
   "cell_type": "code",
   "execution_count": 44,
   "id": "326e3a9b",
   "metadata": {},
   "outputs": [],
   "source": [
    "def bate_ponto_unica_vez(browser, horario_mensagem, indice_formulario_mal_feito=3):\n",
    "    # %%\n",
    "\n",
    "    area_solicitacao_class_name = 'espelho-resumo-dia'\n",
    "\n",
    "    area_solicitacao_objeto = browser.find_element_by_class_name(area_solicitacao_class_name)\n",
    "\n",
    "    incluir_solicitacao_xpath = str('//main/div/div/div[1]/div[2]/div[2]/div/div[' \n",
    "                                    + str(indice_formulario_mal_feito) + ']/button')\n",
    "\n",
    "    area_solicitacao_objeto.find_element_by_xpath(incluir_solicitacao_xpath).click()\n",
    "    sleep(0.5)\n",
    "\n",
    "    horario_campo_escrita_xpath = '//div/div/div[2]/div/div[2]/div/div[1]/div/div/div/div/div[1]/div/input'\n",
    "    mensagem_conteudo = horario_mensagem[0]\n",
    "    browser.find_element_by_xpath(horario_campo_escrita_xpath).send_keys(mensagem_conteudo)\n",
    "    sleep(0.5)\n",
    "\n",
    "    mensagem_campo_escrita_xpath = '//div/div/div[2]/div/div[2]/div/div[2]/div/div[1]/div/div/div[1]/div/textarea'\n",
    "    mensagem_conteudo = horario_mensagem[1]\n",
    "    browser.find_element_by_xpath(mensagem_campo_escrita_xpath).send_keys(mensagem_conteudo)\n",
    "    sleep(0.5)\n",
    "\n",
    "    botao_envio_xpath = '//div/div/div[2]/div/div[2]/div/div[3]/div/button[1]'\n",
    "    browser.find_element_by_xpath(botao_envio_xpath).click()\n",
    "    sleep(1)"
   ]
  },
  {
   "cell_type": "code",
   "execution_count": 45,
   "id": "8aa27fd9",
   "metadata": {},
   "outputs": [],
   "source": [
    "def bate_quatro_vezes(browser):\n",
    "    horario_mensagens_do_ponto = [\n",
    "    (\"08:00\", \"Início da Jornada de Trabalho\"),\n",
    "    (\"12:00\", \"Início do Horário de Almoço\"),\n",
    "    (\"13:00\", \"Retorno do Horário de Almoço\"),\n",
    "    (\"17:00\", \"Fim da Jornada de Trabalho\"),]\n",
    "\n",
    "    for i, horario_mensagem in enumerate(horario_mensagens_do_ponto):\n",
    "        indice_formulario_mal_feito = i + 3\n",
    "        if indice_formulario_mal_feito > 4:\n",
    "            indice_formulario_mal_feito = 4\n",
    "        bate_ponto_unica_vez(browser, horario_mensagem, indice_formulario_mal_feito)"
   ]
  },
  {
   "cell_type": "code",
   "execution_count": 63,
   "id": "0ec99d16",
   "metadata": {},
   "outputs": [
    {
     "ename": "NoSuchElementException",
     "evalue": "Message: no such element: Unable to locate element: {\"method\":\"xpath\",\"selector\":\"//main/div/div/div[1]/div[2]/div[2]/div/div[3]/button\"}\n  (Session info: chrome=92.0.4515.131)\n",
     "output_type": "error",
     "traceback": [
      "\u001b[0;31m---------------------------------------------------------------------------\u001b[0m",
      "\u001b[0;31mNoSuchElementException\u001b[0m                    Traceback (most recent call last)",
      "\u001b[0;32m<ipython-input-63-3deb45a3aae6>\u001b[0m in \u001b[0;36m<module>\u001b[0;34m\u001b[0m\n\u001b[1;32m      1\u001b[0m \u001b[0;32mfor\u001b[0m \u001b[0m_\u001b[0m \u001b[0;32min\u001b[0m \u001b[0mrange\u001b[0m\u001b[0;34m(\u001b[0m\u001b[0;36m4\u001b[0m\u001b[0;34m)\u001b[0m\u001b[0;34m:\u001b[0m\u001b[0;34m\u001b[0m\u001b[0;34m\u001b[0m\u001b[0m\n\u001b[1;32m      2\u001b[0m     \u001b[0;32mfor\u001b[0m \u001b[0m_\u001b[0m \u001b[0;32min\u001b[0m \u001b[0mrange\u001b[0m\u001b[0;34m(\u001b[0m\u001b[0;36m5\u001b[0m\u001b[0;34m)\u001b[0m\u001b[0;34m:\u001b[0m\u001b[0;34m\u001b[0m\u001b[0;34m\u001b[0m\u001b[0m\n\u001b[0;32m----> 3\u001b[0;31m         \u001b[0mbate_quatro_vezes\u001b[0m\u001b[0;34m(\u001b[0m\u001b[0mbrowser\u001b[0m\u001b[0;34m)\u001b[0m\u001b[0;34m\u001b[0m\u001b[0;34m\u001b[0m\u001b[0m\n\u001b[0m\u001b[1;32m      4\u001b[0m         \u001b[0msalta_proximo_dia\u001b[0m\u001b[0;34m(\u001b[0m\u001b[0mbrowser\u001b[0m\u001b[0;34m)\u001b[0m\u001b[0;34m\u001b[0m\u001b[0;34m\u001b[0m\u001b[0m\n\u001b[1;32m      5\u001b[0m     \u001b[0;32mfor\u001b[0m \u001b[0m_\u001b[0m \u001b[0;32min\u001b[0m \u001b[0mrange\u001b[0m\u001b[0;34m(\u001b[0m\u001b[0;36m2\u001b[0m\u001b[0;34m)\u001b[0m\u001b[0;34m:\u001b[0m\u001b[0;34m\u001b[0m\u001b[0;34m\u001b[0m\u001b[0m\n",
      "\u001b[0;32m<ipython-input-45-b3dc7b6af59e>\u001b[0m in \u001b[0;36mbate_quatro_vezes\u001b[0;34m(browser)\u001b[0m\n\u001b[1;32m     10\u001b[0m         \u001b[0;32mif\u001b[0m \u001b[0mindice_formulario_mal_feito\u001b[0m \u001b[0;34m>\u001b[0m \u001b[0;36m4\u001b[0m\u001b[0;34m:\u001b[0m\u001b[0;34m\u001b[0m\u001b[0;34m\u001b[0m\u001b[0m\n\u001b[1;32m     11\u001b[0m             \u001b[0mindice_formulario_mal_feito\u001b[0m \u001b[0;34m=\u001b[0m \u001b[0;36m4\u001b[0m\u001b[0;34m\u001b[0m\u001b[0;34m\u001b[0m\u001b[0m\n\u001b[0;32m---> 12\u001b[0;31m         \u001b[0mbate_ponto_unica_vez\u001b[0m\u001b[0;34m(\u001b[0m\u001b[0mbrowser\u001b[0m\u001b[0;34m,\u001b[0m \u001b[0mhorario_mensagem\u001b[0m\u001b[0;34m,\u001b[0m \u001b[0mindice_formulario_mal_feito\u001b[0m\u001b[0;34m)\u001b[0m\u001b[0;34m\u001b[0m\u001b[0;34m\u001b[0m\u001b[0m\n\u001b[0m",
      "\u001b[0;32m<ipython-input-44-49886cddfcad>\u001b[0m in \u001b[0;36mbate_ponto_unica_vez\u001b[0;34m(browser, horario_mensagem, indice_formulario_mal_feito)\u001b[0m\n\u001b[1;32m      9\u001b[0m                                     + str(indice_formulario_mal_feito) + ']/button')\n\u001b[1;32m     10\u001b[0m \u001b[0;34m\u001b[0m\u001b[0m\n\u001b[0;32m---> 11\u001b[0;31m     \u001b[0marea_solicitacao_objeto\u001b[0m\u001b[0;34m.\u001b[0m\u001b[0mfind_element_by_xpath\u001b[0m\u001b[0;34m(\u001b[0m\u001b[0mincluir_solicitacao_xpath\u001b[0m\u001b[0;34m)\u001b[0m\u001b[0;34m.\u001b[0m\u001b[0mclick\u001b[0m\u001b[0;34m(\u001b[0m\u001b[0;34m)\u001b[0m\u001b[0;34m\u001b[0m\u001b[0;34m\u001b[0m\u001b[0m\n\u001b[0m\u001b[1;32m     12\u001b[0m     \u001b[0msleep\u001b[0m\u001b[0;34m(\u001b[0m\u001b[0;36m0.5\u001b[0m\u001b[0;34m)\u001b[0m\u001b[0;34m\u001b[0m\u001b[0;34m\u001b[0m\u001b[0m\n\u001b[1;32m     13\u001b[0m \u001b[0;34m\u001b[0m\u001b[0m\n",
      "\u001b[0;32m~/anaconda3/envs/web_crawling/lib/python3.9/site-packages/selenium/webdriver/remote/webelement.py\u001b[0m in \u001b[0;36mfind_element_by_xpath\u001b[0;34m(self, xpath)\u001b[0m\n\u001b[1;32m    349\u001b[0m             \u001b[0melement\u001b[0m \u001b[0;34m=\u001b[0m \u001b[0melement\u001b[0m\u001b[0;34m.\u001b[0m\u001b[0mfind_element_by_xpath\u001b[0m\u001b[0;34m(\u001b[0m\u001b[0;34m'//div/td[1]'\u001b[0m\u001b[0;34m)\u001b[0m\u001b[0;34m\u001b[0m\u001b[0;34m\u001b[0m\u001b[0m\n\u001b[1;32m    350\u001b[0m         \"\"\"\n\u001b[0;32m--> 351\u001b[0;31m         \u001b[0;32mreturn\u001b[0m \u001b[0mself\u001b[0m\u001b[0;34m.\u001b[0m\u001b[0mfind_element\u001b[0m\u001b[0;34m(\u001b[0m\u001b[0mby\u001b[0m\u001b[0;34m=\u001b[0m\u001b[0mBy\u001b[0m\u001b[0;34m.\u001b[0m\u001b[0mXPATH\u001b[0m\u001b[0;34m,\u001b[0m \u001b[0mvalue\u001b[0m\u001b[0;34m=\u001b[0m\u001b[0mxpath\u001b[0m\u001b[0;34m)\u001b[0m\u001b[0;34m\u001b[0m\u001b[0;34m\u001b[0m\u001b[0m\n\u001b[0m\u001b[1;32m    352\u001b[0m \u001b[0;34m\u001b[0m\u001b[0m\n\u001b[1;32m    353\u001b[0m     \u001b[0;32mdef\u001b[0m \u001b[0mfind_elements_by_xpath\u001b[0m\u001b[0;34m(\u001b[0m\u001b[0mself\u001b[0m\u001b[0;34m,\u001b[0m \u001b[0mxpath\u001b[0m\u001b[0;34m)\u001b[0m\u001b[0;34m:\u001b[0m\u001b[0;34m\u001b[0m\u001b[0;34m\u001b[0m\u001b[0m\n",
      "\u001b[0;32m~/anaconda3/envs/web_crawling/lib/python3.9/site-packages/selenium/webdriver/remote/webelement.py\u001b[0m in \u001b[0;36mfind_element\u001b[0;34m(self, by, value)\u001b[0m\n\u001b[1;32m    656\u001b[0m                 \u001b[0mvalue\u001b[0m \u001b[0;34m=\u001b[0m \u001b[0;34m'[name=\"%s\"]'\u001b[0m \u001b[0;34m%\u001b[0m \u001b[0mvalue\u001b[0m\u001b[0;34m\u001b[0m\u001b[0;34m\u001b[0m\u001b[0m\n\u001b[1;32m    657\u001b[0m \u001b[0;34m\u001b[0m\u001b[0m\n\u001b[0;32m--> 658\u001b[0;31m         return self._execute(Command.FIND_CHILD_ELEMENT,\n\u001b[0m\u001b[1;32m    659\u001b[0m                              {\"using\": by, \"value\": value})['value']\n\u001b[1;32m    660\u001b[0m \u001b[0;34m\u001b[0m\u001b[0m\n",
      "\u001b[0;32m~/anaconda3/envs/web_crawling/lib/python3.9/site-packages/selenium/webdriver/remote/webelement.py\u001b[0m in \u001b[0;36m_execute\u001b[0;34m(self, command, params)\u001b[0m\n\u001b[1;32m    631\u001b[0m             \u001b[0mparams\u001b[0m \u001b[0;34m=\u001b[0m \u001b[0;34m{\u001b[0m\u001b[0;34m}\u001b[0m\u001b[0;34m\u001b[0m\u001b[0;34m\u001b[0m\u001b[0m\n\u001b[1;32m    632\u001b[0m         \u001b[0mparams\u001b[0m\u001b[0;34m[\u001b[0m\u001b[0;34m'id'\u001b[0m\u001b[0;34m]\u001b[0m \u001b[0;34m=\u001b[0m \u001b[0mself\u001b[0m\u001b[0;34m.\u001b[0m\u001b[0m_id\u001b[0m\u001b[0;34m\u001b[0m\u001b[0;34m\u001b[0m\u001b[0m\n\u001b[0;32m--> 633\u001b[0;31m         \u001b[0;32mreturn\u001b[0m \u001b[0mself\u001b[0m\u001b[0;34m.\u001b[0m\u001b[0m_parent\u001b[0m\u001b[0;34m.\u001b[0m\u001b[0mexecute\u001b[0m\u001b[0;34m(\u001b[0m\u001b[0mcommand\u001b[0m\u001b[0;34m,\u001b[0m \u001b[0mparams\u001b[0m\u001b[0;34m)\u001b[0m\u001b[0;34m\u001b[0m\u001b[0;34m\u001b[0m\u001b[0m\n\u001b[0m\u001b[1;32m    634\u001b[0m \u001b[0;34m\u001b[0m\u001b[0m\n\u001b[1;32m    635\u001b[0m     \u001b[0;32mdef\u001b[0m \u001b[0mfind_element\u001b[0m\u001b[0;34m(\u001b[0m\u001b[0mself\u001b[0m\u001b[0;34m,\u001b[0m \u001b[0mby\u001b[0m\u001b[0;34m=\u001b[0m\u001b[0mBy\u001b[0m\u001b[0;34m.\u001b[0m\u001b[0mID\u001b[0m\u001b[0;34m,\u001b[0m \u001b[0mvalue\u001b[0m\u001b[0;34m=\u001b[0m\u001b[0;32mNone\u001b[0m\u001b[0;34m)\u001b[0m\u001b[0;34m:\u001b[0m\u001b[0;34m\u001b[0m\u001b[0;34m\u001b[0m\u001b[0m\n",
      "\u001b[0;32m~/anaconda3/envs/web_crawling/lib/python3.9/site-packages/selenium/webdriver/remote/webdriver.py\u001b[0m in \u001b[0;36mexecute\u001b[0;34m(self, driver_command, params)\u001b[0m\n\u001b[1;32m    319\u001b[0m         \u001b[0mresponse\u001b[0m \u001b[0;34m=\u001b[0m \u001b[0mself\u001b[0m\u001b[0;34m.\u001b[0m\u001b[0mcommand_executor\u001b[0m\u001b[0;34m.\u001b[0m\u001b[0mexecute\u001b[0m\u001b[0;34m(\u001b[0m\u001b[0mdriver_command\u001b[0m\u001b[0;34m,\u001b[0m \u001b[0mparams\u001b[0m\u001b[0;34m)\u001b[0m\u001b[0;34m\u001b[0m\u001b[0;34m\u001b[0m\u001b[0m\n\u001b[1;32m    320\u001b[0m         \u001b[0;32mif\u001b[0m \u001b[0mresponse\u001b[0m\u001b[0;34m:\u001b[0m\u001b[0;34m\u001b[0m\u001b[0;34m\u001b[0m\u001b[0m\n\u001b[0;32m--> 321\u001b[0;31m             \u001b[0mself\u001b[0m\u001b[0;34m.\u001b[0m\u001b[0merror_handler\u001b[0m\u001b[0;34m.\u001b[0m\u001b[0mcheck_response\u001b[0m\u001b[0;34m(\u001b[0m\u001b[0mresponse\u001b[0m\u001b[0;34m)\u001b[0m\u001b[0;34m\u001b[0m\u001b[0;34m\u001b[0m\u001b[0m\n\u001b[0m\u001b[1;32m    322\u001b[0m             response['value'] = self._unwrap_value(\n\u001b[1;32m    323\u001b[0m                 response.get('value', None))\n",
      "\u001b[0;32m~/anaconda3/envs/web_crawling/lib/python3.9/site-packages/selenium/webdriver/remote/errorhandler.py\u001b[0m in \u001b[0;36mcheck_response\u001b[0;34m(self, response)\u001b[0m\n\u001b[1;32m    240\u001b[0m                 \u001b[0malert_text\u001b[0m \u001b[0;34m=\u001b[0m \u001b[0mvalue\u001b[0m\u001b[0;34m[\u001b[0m\u001b[0;34m'alert'\u001b[0m\u001b[0;34m]\u001b[0m\u001b[0;34m.\u001b[0m\u001b[0mget\u001b[0m\u001b[0;34m(\u001b[0m\u001b[0;34m'text'\u001b[0m\u001b[0;34m)\u001b[0m\u001b[0;34m\u001b[0m\u001b[0;34m\u001b[0m\u001b[0m\n\u001b[1;32m    241\u001b[0m             \u001b[0;32mraise\u001b[0m \u001b[0mexception_class\u001b[0m\u001b[0;34m(\u001b[0m\u001b[0mmessage\u001b[0m\u001b[0;34m,\u001b[0m \u001b[0mscreen\u001b[0m\u001b[0;34m,\u001b[0m \u001b[0mstacktrace\u001b[0m\u001b[0;34m,\u001b[0m \u001b[0malert_text\u001b[0m\u001b[0;34m)\u001b[0m\u001b[0;34m\u001b[0m\u001b[0;34m\u001b[0m\u001b[0m\n\u001b[0;32m--> 242\u001b[0;31m         \u001b[0;32mraise\u001b[0m \u001b[0mexception_class\u001b[0m\u001b[0;34m(\u001b[0m\u001b[0mmessage\u001b[0m\u001b[0;34m,\u001b[0m \u001b[0mscreen\u001b[0m\u001b[0;34m,\u001b[0m \u001b[0mstacktrace\u001b[0m\u001b[0;34m)\u001b[0m\u001b[0;34m\u001b[0m\u001b[0;34m\u001b[0m\u001b[0m\n\u001b[0m\u001b[1;32m    243\u001b[0m \u001b[0;34m\u001b[0m\u001b[0m\n\u001b[1;32m    244\u001b[0m     \u001b[0;32mdef\u001b[0m \u001b[0m_value_or_default\u001b[0m\u001b[0;34m(\u001b[0m\u001b[0mself\u001b[0m\u001b[0;34m,\u001b[0m \u001b[0mobj\u001b[0m\u001b[0;34m,\u001b[0m \u001b[0mkey\u001b[0m\u001b[0;34m,\u001b[0m \u001b[0mdefault\u001b[0m\u001b[0;34m)\u001b[0m\u001b[0;34m:\u001b[0m\u001b[0;34m\u001b[0m\u001b[0;34m\u001b[0m\u001b[0m\n",
      "\u001b[0;31mNoSuchElementException\u001b[0m: Message: no such element: Unable to locate element: {\"method\":\"xpath\",\"selector\":\"//main/div/div/div[1]/div[2]/div[2]/div/div[3]/button\"}\n  (Session info: chrome=92.0.4515.131)\n"
     ]
    }
   ],
   "source": [
    "for _ in range(4):\n",
    "    for _ in range(5):\n",
    "        bate_quatro_vezes(browser)\n",
    "        salta_proximo_dia(browser)\n",
    "    for _ in range(2):\n",
    "        salta_proximo_dia(browser)"
   ]
  },
  {
   "cell_type": "code",
   "execution_count": 36,
   "id": "80018b66",
   "metadata": {},
   "outputs": [],
   "source": [
    "bate_ponto_quatro_vezes(browser)"
   ]
  },
  {
   "cell_type": "code",
   "execution_count": 65,
   "id": "5472366d",
   "metadata": {},
   "outputs": [],
   "source": [
    "bate_quatro_vezes(browser)"
   ]
  },
  {
   "cell_type": "markdown",
   "id": "2f19eba4",
   "metadata": {},
   "source": [
    "## Batendo ponto diariamente pelo Batida Online"
   ]
  },
  {
   "cell_type": "code",
   "execution_count": 5,
   "id": "54ad06b8",
   "metadata": {},
   "outputs": [],
   "source": [
    "# Open the Website\n",
    "url_ahgora = 'https://www.ahgora.com.br/novabatidaonline/'\n",
    "browser.get(url_ahgora)"
   ]
  },
  {
   "cell_type": "code",
   "execution_count": 18,
   "id": "450a6d24",
   "metadata": {},
   "outputs": [],
   "source": [
    "botao_registre_seu_ponto = '//div/div/div[2]/div[1]/div[2]/button'\n",
    "browser.find_element_by_xpath(botao_registre_seu_ponto).click()"
   ]
  },
  {
   "cell_type": "code",
   "execution_count": 8,
   "id": "8845fc7c",
   "metadata": {},
   "outputs": [],
   "source": [
    "CREDENCIAIS_AHGORA['matricula'] = '945'\n",
    "CREDENCIAIS_AHGORA['senha'] = 'MDYYyUi2Pr7Lf#u'"
   ]
  },
  {
   "cell_type": "code",
   "execution_count": 10,
   "id": "3ffe2133",
   "metadata": {},
   "outputs": [],
   "source": [
    "# %%\n",
    "# Write credentials and\n",
    "# click on Log in Ahgora Now\n",
    "ahgora_matricula = CREDENCIAIS_AHGORA['matricula']\n",
    "ahgora_senha = CREDENCIAIS_AHGORA['senha']\n",
    "browser.find_element_by_id('outlined-basic-account').send_keys(ahgora_matricula)\n",
    "browser.find_element_by_id('outlined-basic-password').send_keys(ahgora_senha)\n",
    "botao_confirmacao_relogin = '//div/div/div[1]/div[3]/div[1]/div[2]/button[2]'\n",
    "browser.find_element_by_xpath(botao_confirmacao_relogin)"
   ]
  },
  {
   "cell_type": "code",
   "execution_count": 16,
   "id": "9ee2aed1",
   "metadata": {},
   "outputs": [],
   "source": [
    "botao_confirmacao_ponto = '//div/div/div[1]/div[3]/div[2]/button[2]'\n",
    "browser.find_element_by_xpath(botao_confirmacao_ponto).click()"
   ]
  },
  {
   "cell_type": "code",
   "execution_count": 17,
   "id": "796661da",
   "metadata": {},
   "outputs": [],
   "source": [
    "botao_fechar_batida_ponto = '//div/div/div[1]/div[3]/div[2]/button'\n",
    "browser.find_element_by_xpath(botao_fechar_batida_ponto).click()"
   ]
  },
  {
   "cell_type": "code",
   "execution_count": null,
   "id": "17b32773",
   "metadata": {},
   "outputs": [],
   "source": []
  }
 ],
 "metadata": {
  "kernelspec": {
   "display_name": "Python 3",
   "language": "python",
   "name": "python3"
  },
  "language_info": {
   "codemirror_mode": {
    "name": "ipython",
    "version": 3
   },
   "file_extension": ".py",
   "mimetype": "text/x-python",
   "name": "python",
   "nbconvert_exporter": "python",
   "pygments_lexer": "ipython3",
   "version": "3.9.4"
  }
 },
 "nbformat": 4,
 "nbformat_minor": 5
}
